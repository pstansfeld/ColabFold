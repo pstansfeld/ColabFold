{
  "nbformat": 4,
  "nbformat_minor": 0,
  "metadata": {
    "accelerator": "GPU",
    "colab": {
      "name": "Copy of MemProtMD-insane.ipynb",
      "provenance": [],
      "collapsed_sections": [],
      "authorship_tag": "ABX9TyNl0TNWnpam9aqt5lkQddaF",
      "include_colab_link": true
    },
    "kernelspec": {
      "display_name": "Python 3",
      "name": "python3"
    },
    "language_info": {
      "name": "python"
    }
  },
  "cells": [
    {
      "cell_type": "markdown",
      "metadata": {
        "id": "view-in-github",
        "colab_type": "text"
      },
      "source": [
        "<a href=\"https://colab.research.google.com/github/pstansfeld/ColabFold/blob/main/MemProtMD_insane.ipynb\" target=\"_parent\"><img src=\"https://colab.research.google.com/assets/colab-badge.svg\" alt=\"Open In Colab\"/></a>"
      ]
    },
    {
      "cell_type": "code",
      "metadata": {
        "id": "BkK_LOnW1_z_"
      },
      "source": [
        "#@title Upload a PDB coordinate file\n",
        "import os\n",
        "import sys\n",
        "\n",
        "!python3 -m pip install py3dmol\n",
        "\n",
        "import py3Dmol\n",
        "from google.colab import files\n",
        "sys.path.append('/usr/local/lib/python3.7/site-packages/')\n",
        "\n",
        "os.chdir('/content/')\n",
        "upload = files.upload()\n",
        "#@title Predict Membrane Orientation\n",
        "mview = py3Dmol.view(800, 400)  \n",
        "filename = next(iter(upload))\n",
        "name = os.path.splitext(filename)[0]\n",
        "working_dir = '/content/' + name + '/'\n",
        "os.makedirs(working_dir, exist_ok=True)\n",
        "os.rename(filename, working_dir + filename)\n",
        "os.chdir(working_dir)\n",
        "mol1 = open(working_dir + filename, 'r').read()\n",
        "mview.addModel(mol1,'pdb')\n",
        "mview.setStyle({'cartoon': {'color':'spectrum'}})\n",
        "mview.setStyle({'resn':'DUM'},{'sphere':{}})\n",
        "mview.setBackgroundColor('0xffffff')\n",
        "mview.zoomTo()\n",
        "mview.show()"
      ],
      "execution_count": null,
      "outputs": []
    },
    {
      "cell_type": "code",
      "metadata": {
        "id": "oUrop2BIbeO3",
        "cellView": "code"
      },
      "source": [
        "#@title Install dependencies\n",
        "%%capture\n",
        "os.chdir('/content/')\n",
        "if not os.path.isdir(\"/content/memembed/\"):\n",
        "  !apt-get update -y\n",
        "  !apt-get install dssp\n",
        "  !git clone https://github.com/timnugent/memembed\n",
        "  %cd memembed\n",
        "  !make\n",
        "  %cd ../\n",
        "  !python3 -m pip install pdb2pqr\n",
        "  !python3 -m pip install vermouth\n",
        "  !python3 -m pip install GromacsWrapper\n",
        "  !python3 -m pip install MDAnalysis \n",
        "  !git clone https://github.com/pstansfeld/cg2at\n",
        "  !wget https://github.com/pstansfeld/MemProtMD/raw/main/martini_v300.zip\n",
        "  !unzip -o martini_v300.zip\n",
        "  !wget https://github.com/pstansfeld/MemProtMD/raw/main/insane3.py\n",
        "  !wget https://github.com/pstansfeld/MemProtMD/raw/main/gromacs.zip\n",
        "  !unzip -o gromacs.zip\n",
        "  !ln -s /content/content/gromacs/bin/gmx /usr/bin/gmx\n",
        "\n",
        "import gromacs\n",
        "import MDAnalysis\n",
        "import glob\n",
        "import shutil"
      ],
      "execution_count": null,
      "outputs": []
    },
    {
      "cell_type": "code",
      "metadata": {
        "id": "7OqXMVLKerlV"
      },
      "source": [
        "#@title Predict Membrane Orientation\n",
        "os.chdir(working_dir)\n",
        "os.system('/content/memembed/bin/memembed -o memembed.pdb ' + filename) \n",
        "mview = py3Dmol.view(800, 400)  \n",
        "mol1 = open(working_dir + '/memembed.pdb', 'r').read()\n",
        "mview.addModel(mol1,'pdb')\n",
        "mview.setStyle({'cartoon': {'color':'spectrum'}})\n",
        "mview.setStyle({'resn':'DUM'},{'sphere':{}})\n",
        "mview.setBackgroundColor('0xffffff')\n",
        "mview.zoomTo()\n",
        "mview.show()"
      ],
      "execution_count": null,
      "outputs": []
    },
    {
      "cell_type": "code",
      "metadata": {
        "id": "0GnUhNBFAa3t",
        "cellView": "code"
      },
      "source": [
        "#@title Set-up Coarse-Grained Membrane Protein System\n",
        "%%capture\n",
        "os.chdir(working_dir)\n",
        "\n",
        "for file in glob.glob(r'/content/martini*.itp'):\n",
        "    print(file)\n",
        "    shutil.copy(file, working_dir)\n",
        "\n",
        "gromacs.make_ndx(f='memembed.pdb', o='index.ndx', input=('del 0', 'del 1-100','rDUM','q'),backup=False)\n",
        "gromacs.editconf(f='memembed.pdb',o='centered.pdb',n='index.ndx',c=True,d=3,input=(0,0),backup=False)\n",
        "\n",
        "u = MDAnalysis.Universe('centered.pdb')\n",
        "x = round(u.dimensions[0]/10)\n",
        "y = round(u.dimensions[1]/10)\n",
        "z = round(u.dimensions[2]/10)\n",
        "\n",
        "gromacs.confrms(f2='memembed.pdb', f1='centered.pdb', one=True, o='aligned.gro', input=(3,3),backup=False)\n",
        "gromacs.editconf(f='aligned.gro', o='protein.pdb',label='A',resnr=1,n=True,input=(0,0),backup=False)\n",
        "\n",
        "v = MDAnalysis.Universe('aligned.gro')\n",
        "dum = v.select_atoms('resname DUM')\n",
        "\n",
        "dm = (z/2) - (round(dum.center_of_mass()[2]/10))\n",
        "\n",
        "with open('protein.pdb', 'r') as file :\n",
        "  filedata = file.read()\n",
        "filedata = filedata.replace('HSE', 'HIS')\n",
        "filedata = filedata.replace('HSD', 'HIS')\n",
        "filedata = filedata.replace('MSE', 'MET')\n",
        "filedata = filedata.replace(' SE ', ' SD ')\n",
        "with open('protein.pdb', 'w') as file:\n",
        "  file.write(filedata)\n",
        "\n",
        "!martinize2 -f protein.pdb -dssp mkdssp -ff martini3001 -x protein-cg.pdb -o protein-cg.top -elastic -ef 500 -eu 1.0 -el 0.5 -ea 0 -ep 0 -merge A -maxwarn 100000\n",
        "\n",
        "!sed -e 's/^molecule.*/Protein 1/g' molecule*.itp >  protein-cg.itp\n",
        "\n",
        "os.system('python2 /content/insane3.py -l POPC:1 -salt 0.15 -sol W -o CG-system.gro -p topol.top -f protein-cg.pdb -center -x %s -y %s -z %s -dm %s' % (x, y, z, dm))\n",
        "\n",
        "replacements = {'NA+':'NA', 'CL-':'CL', '#include \"martini_v3.itp\"':'#include \"martini_v3.0.0.itp\"\\n#include \"martini_v3.0.0_ions_v1.itp\"\\n#include \"martini_v3.0.0_solvents_v1.itp\"\\n#include \"martini_v3.0.0_phospholipids_v1.itp\"\\n'}\n",
        "lines = []\n",
        "with open('topol.top') as infile:\n",
        "    for line in infile:\n",
        "        for src, target in replacements.items():\n",
        "            line = line.replace(src, target)\n",
        "        lines.append(line)\n",
        "with open('topol.top', 'w') as outfile:\n",
        "    for line in lines:\n",
        "        outfile.write(line)\n",
        "with open('em.mdp','w') as em:\n",
        "            em.write('integrator = steep\\nnsteps = 5000\\nemtol = 1000\\nemstep = 0.001')\n",
        "\n",
        "gromacs.grompp(f='em.mdp',o='em.tpr',c='CG-system.gro',maxwarn='-1',backup=False,v=True)\n",
        "\n",
        "gromacs.mdrun(deffnm='em', c='CG-system.pdb',backup=False)\n",
        "\n",
        "gromacs.trjconv(f='CG-system.pdb', o='CG-system.pdb', pbc='res', s='em.tpr', conect=True, input='0',backup=False)\n",
        "\n",
        "%mkdir MD\n",
        "\n",
        "gromacs.make_ndx(f='CG-system.pdb', o='index.ndx', input=('del 0', 'del 1-40', '0|rPOP*','1&!0','!1','del 1','name 1 Lipid','name 2 SOL_ION','q'),backup=False)\n",
        "\n",
        "with open('cgmd.mdp','w') as md:\n",
        "            md.write('integrator = md\\ntinit = 0.0\\ndt = 0.02\\nnsteps = 10000\\nnstxout = 0\\nnstvout = 0\\nnstfout = 0\\nnstlog = 50000\\nnstenergy = 50000\\nnstxout-compressed = 50000\\ncompressed-x-precision = 10000\\nnstlist  = 10\\nns_type  = grid\\npbc   = xyz\\ncoulombtype  = Reaction_field\\nrcoulomb_switch = 0.0\\nrcoulomb  = 1.1\\nepsilon_r  = 15\\nvdw_type  = cutoff\\nrvdw_switch  = 0.9\\nrvdw   = 1.1\\ncutoff-scheme = verlet\\ncoulomb-modifier = Potential-shift\\nvdw-modifier  = Potential-shift\\nepsilon_rf  = 0\\nverlet-buffer-tolerance = 0.005\\ntcoupl  = v-rescale\\ntc-grps  = PROTEIN LIPID SOL_ION\\ntau_t  = 1.0 1.0 1.0\\nref_t  = 310 310 310\\nPcoupl  = c-rescale\\nPcoupltype  = semiisotropic\\ntau_p  = 12.0\\ncompressibility = 3e-4 3e-4\\nref_p  = 1.0 1.0\\ngen_vel  = yes\\ngen_temp  = 310\\ngen_seed  = -1\\nconstraints  = none\\nconstraint_algorithm = Lincs\\ncontinuation  = no\\nlincs_order  = 4\\nlincs_warnangle = 30\\n')\n",
        "\n",
        "gromacs.grompp(f='cgmd.mdp',o='MD/md',c='CG-system.pdb',maxwarn=-1, n='index.ndx',backup=False)  "
      ],
      "execution_count": null,
      "outputs": []
    },
    {
      "cell_type": "code",
      "metadata": {
        "id": "sLIhSv-ZV5c1"
      },
      "source": [
        "#@title Equilibrate Membrane Protein System\n",
        "os.chdir(working_dir + 'MD')\n",
        "gromacs.mdrun(deffnm='md',backup=False, v=True, nsteps=10000)\n",
        "mview = py3Dmol.view(800, 400)  \n",
        "mol1 = open(working_dir + 'MD/md.gro', 'r').read()\n",
        "mview.addModel(mol1,'gro')\n",
        "mview.setStyle({'cartoon': {'color':'spectrum'}})\n",
        "mview.setStyle({'atom':'PO4'},{'sphere':{}})\n",
        "mview.setStyle({'atom':'BB'},{'sphere':{}})\n",
        "mview.setBackgroundColor('0xffffff')\n",
        "mview.zoomTo()\n",
        "mview.show()\n",
        "\n",
        "for file in glob.glob(r'#*'):\n",
        "    os.remove(file)\n",
        "    \n",
        "os.chdir(working_dir)\n",
        "for file in glob.glob(r'#*'):\n",
        "    os.remove(file)"
      ],
      "execution_count": null,
      "outputs": []
    },
    {
      "cell_type": "code",
      "metadata": {
        "id": "6OiqiUNlBKMO"
      },
      "source": [
        "#@title Convert back to Atomistic\n",
        "os.chdir(working_dir + 'MD/')\n",
        "shutil.rmtree('CG2AT', ignore_errors=True)\n",
        "os.system('/content/cg2at/cg2at -o align -w tip3p -c md.gro -a ../protein.pdb -loc CG2AT -ff charmm36-jul2020-updated -fg martini_3-0_charmm36')\n",
        "os.rename(working_dir + 'MD/md.gro', working_dir + name + '-cgmd.gro')\n",
        "os.rename(working_dir + 'MD/md.tpr', working_dir + name + '-cgmd.tpr')\n",
        "os.rename(working_dir + 'memembed.pdb', working_dir + name + '-memembed.pdb')\n",
        "os.chdir(working_dir)\n",
        "shutil.rmtree('Atomistic', ignore_errors=True)\n",
        "shutil.copytree(working_dir + 'MD/CG2AT/FINAL/', working_dir + 'Atomistic/')\n",
        "os.chdir(working_dir + 'Atomistic/')\n",
        "os.rename(working_dir + 'Atomistic/final_cg2at_aligned.pdb',working_dir + 'Atomistic/' + name + '-System.pdb')\n",
        "os.rename(working_dir + 'Atomistic/topol_final.top', working_dir + 'Atomistic/topol.top')\n",
        "gromacs.make_ndx(f=working_dir + 'Atomistic/' + name + '-System.pdb', o='index.ndx', input=('del 2-40', 'rSOL|rNA*|rCL*','1|2','0&!3','del 3','name 2 water_and_ions','name 3 Lipid','q'),backup=False)\n",
        "with open(working_dir + 'Atomistic/topol.top', 'r') as file :\n",
        "  filedata = file.read()\n",
        "filedata = filedata.replace('../FINAL/', '')\n",
        "with open(working_dir + 'Atomistic/topol.top', 'w') as file:\n",
        "  file.write(filedata)\n",
        "!wget https://raw.githubusercontent.com/pstansfeld/MemProtMD/main/mdp_files/500ns.mdp\n",
        "!wget https://raw.githubusercontent.com/pstansfeld/MemProtMD/main/mdp_files/10ns-pr.mdp\n",
        "mview = py3Dmol.view(800, 400)  \n",
        "mol1 = open(working_dir + 'Atomistic/' + name + '-System.pdb', 'r').read()\n",
        "mview.addModel(mol1,'pdb')\n",
        "mview.setStyle({'cartoon': {'color':'spectrum'}})\n",
        "mview.setStyle({'atom':'P'},{'sphere':{}})\n",
        "mview.setBackgroundColor('0xffffff')\n",
        "mview.zoomTo()\n",
        "mview.show()"
      ],
      "execution_count": null,
      "outputs": []
    },
    {
      "cell_type": "code",
      "metadata": {
        "id": "YX_yj6UQE_TM"
      },
      "source": [
        "#@title Download Zip\n",
        "os.chdir(working_dir)\n",
        "shutil.rmtree('MD', ignore_errors=True)\n",
        "os.remove('em.trr')\n",
        "os.remove('em.edr')\n",
        "os.remove('em.tpr')\n",
        "os.remove('em.log')\n",
        "os.remove('centered.pdb')\n",
        "os.remove('protein.pdb')\n",
        "os.remove('molecule_0.itp')\n",
        "os.remove('mdout.mdp')\n",
        "os.remove('aligned.gro')\n",
        "os.remove('protein-cg.top')\n",
        "os.system('zip -r /content/' + name + '.zip ' + working_dir )\n",
        "files.download('/content/' + name + '.zip')"
      ],
      "execution_count": null,
      "outputs": []
    }
  ]
}